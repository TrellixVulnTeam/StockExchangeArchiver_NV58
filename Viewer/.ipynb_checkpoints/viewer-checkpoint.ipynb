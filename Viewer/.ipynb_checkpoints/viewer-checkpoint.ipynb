{
 "cells": [
  {
   "cell_type": "code",
   "execution_count": 5,
   "metadata": {},
   "outputs": [
    {
     "data": {
      "application/vnd.jupyter.widget-view+json": {
       "model_id": "2a29196cf4d2410f91544b8bb5d9823a",
       "version_major": 2,
       "version_minor": 0
      },
      "text/plain": [
       "interactive(children=(DatePicker(value=None, description='日付を選択'), Output()), _dom_classes=('widget-interact',…"
      ]
     },
     "metadata": {},
     "output_type": "display_data"
    }
   ],
   "source": [
    "#別ファイルのpyは一度消さないと\n",
    "#更新しても再インポートされない。\n",
    "#一度リロードさせるための処理\n",
    "import sys\n",
    "try:\n",
    "    del sys.modules['dataframe']\n",
    "except Exception as e:\n",
    "    pass\n",
    "\n",
    "\n",
    "\n",
    "import dataframe\n",
    "df = dataframe.DataFrame()\n",
    "\n",
    "import ipywidgets as widgets\n",
    "date_picker = widgets.DatePicker(description='日付を選択', disabled=False)\n",
    "\n",
    "import seaborn as sbn\n",
    "def show_corr():\n",
    "    global df\n",
    "    sbn.heatmap( df.corr() )\n",
    "\n",
    "def on_date_change( date ):\n",
    "    global df\n",
    "    df.fetch( str(date).replace( \"-\", \".\" ) )\n",
    "    show_corr()\n",
    "    display( df.data )\n",
    "\n",
    "if __name__ == \"__main__\":\n",
    "    display( widgets.interactive(on_date_change, date=date_picker) )\n",
    "\n"
   ]
  }
 ],
 "metadata": {
  "kernelspec": {
   "display_name": "Python 3",
   "language": "python",
   "name": "python3"
  },
  "language_info": {
   "codemirror_mode": {
    "name": "ipython",
    "version": 3
   },
   "file_extension": ".py",
   "mimetype": "text/x-python",
   "name": "python",
   "nbconvert_exporter": "python",
   "pygments_lexer": "ipython3",
   "version": "3.6.5"
  }
 },
 "nbformat": 4,
 "nbformat_minor": 2
}
