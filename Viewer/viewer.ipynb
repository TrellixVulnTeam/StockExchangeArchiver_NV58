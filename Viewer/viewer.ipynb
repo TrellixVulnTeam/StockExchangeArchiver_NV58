{
 "cells": [
  {
   "cell_type": "code",
   "execution_count": 95,
   "metadata": {
    "scrolled": false
   },
   "outputs": [
    {
     "data": {
      "application/vnd.jupyter.widget-view+json": {
       "model_id": "089f3f63662a48e09597f5212924f243",
       "version_major": 2,
       "version_minor": 0
      },
      "text/plain": [
       "interactive(children=(DatePicker(value=None, description='日付を選択'), Output()), _dom_classes=('widget-interact',…"
      ]
     },
     "metadata": {},
     "output_type": "display_data"
    }
   ],
   "source": [
    "#別ファイルのpyは一度消さないと\n",
    "#更新しても再インポートされない。\n",
    "#一度リロードさせるための処理\n",
    "import sys\n",
    "try:\n",
    "    del sys.modules['dataframe']\n",
    "except Exception as e:\n",
    "    pass\n",
    "\n",
    "import dataframe\n",
    "nikkei225 = dataframe.DataFrame()\n",
    "\n",
    "def create_date_picker():\n",
    "    import ipywidgets as widgets\n",
    "    date_picker = widgets.DatePicker(description='日付を選択', disabled=False)\n",
    "    display( widgets.interactive(on_date_change, date=date_picker) )\n",
    "\n",
    "def on_date_change( date ):\n",
    "    if \"-\" in str(date):\n",
    "        global nikkei225\n",
    "        nikkei225.fetch( str(date).replace( \"-\", \".\" ) )\n",
    "        nikkei225.display()\n",
    "        print( \"Loading Completed\")\n",
    "        \n",
    "if __name__ == \"__main__\":\n",
    "    create_date_picker()\n"
   ]
  },
  {
   "cell_type": "code",
   "execution_count": 99,
   "metadata": {
    "scrolled": false
   },
   "outputs": [
    {
     "data": {
      "application/vnd.jupyter.widget-view+json": {
       "model_id": "b13bc1bf73554af1a259337c3bff772b",
       "version_major": 2,
       "version_minor": 0
      },
      "text/plain": [
       "interactive(children=(Select(description='selection', options=('09:25:00', '09:30:00', '09:40:00', '09:45:00',…"
      ]
     },
     "metadata": {},
     "output_type": "display_data"
    }
   ],
   "source": [
    "selected_stocks = []\n",
    "\n",
    "def minmax( l, margin = 4 ):\n",
    "    min = l.min()\n",
    "    max = l.max()\n",
    "    return min-margin, max+margin\n",
    "\n",
    "import matplotlib.pyplot as plt\n",
    "def plot_slope_prices( selections, start):\n",
    "    y_min = sys.maxsize\n",
    "    y_max = -sys.maxsize\n",
    "    xs = []\n",
    "    ys = []\n",
    "    ls = []\n",
    "    \n",
    "    global selected_stocks\n",
    "    for s in selected_stocks:\n",
    "        x,y = s.plot_change_xy()\n",
    "        xs.append( x )\n",
    "        ys.append( y )\n",
    "        ls.append( str(s.code) )\n",
    "        min, max = minmax( y )\n",
    "        if min < y_min: \n",
    "            y_min = min\n",
    "        if max > y_max:\n",
    "            y_max = max\n",
    "    \n",
    "    diff = 5.0\n",
    "    fig = plt.figure(figsize=(16,8))\n",
    "    ax = fig.add_subplot(111)\n",
    "    rect = plt.Rectangle((start-diff,y_min),diff,y_max-y_min,fc=\"#c0c0c0\")\n",
    "    ax.add_patch(rect)\n",
    "    for i in range( len(xs) ):\n",
    "        plt.plot(xs[i],ys[i],label=ls[i])\n",
    "    plt.legend( loc = \"upper left\")\n",
    "    plt.grid( True )\n",
    "    plt.ylim( y_min, y_max )\n",
    "        \n",
    "    plt.show()\n",
    "\n",
    "\n",
    "def create_sel_menu( combo_count ):\n",
    "    opts = []\n",
    "    nikkei225.get_combo_info_list( combo_count )\n",
    "    for l in nikkei225.combo_info_list:\n",
    "        opts.append(l[\"timestamp\"])\n",
    "    select_menu = widgets.Select(options=opts)\n",
    "    display( widgets.interactive(on_selection_change, selection=select_menu) )\n",
    "    \n",
    "\n",
    "\n",
    "def on_selection_change( selection ):\n",
    "    global selected_stocks \n",
    "    for l in nikkei225.combo_info_list:\n",
    "        if l[\"timestamp\"] == selection:\n",
    "            start_idx = nikkei225.find_timestamps( selection )\n",
    "            selected_stocks = []\n",
    "            lbls = \"\"\n",
    "            for s in l[\"stocks\"]:\n",
    "                selected_stocks.append( s )\n",
    "                lbls += s.label+ \"(x \" + str(int(s.combos[start_idx])) +\") \"\n",
    "            plot_slope_prices( selected_stocks, start_idx )\n",
    "            print( lbls )\n",
    "            break\n",
    "            \n",
    "if __name__ == \"__main__\":\n",
    "    create_sel_menu( 5 )\n"
   ]
  }
 ],
 "metadata": {
  "kernelspec": {
   "display_name": "Python 3",
   "language": "python",
   "name": "python3"
  },
  "language_info": {
   "codemirror_mode": {
    "name": "ipython",
    "version": 3
   },
   "file_extension": ".py",
   "mimetype": "text/x-python",
   "name": "python",
   "nbconvert_exporter": "python",
   "pygments_lexer": "ipython3",
   "version": "3.6.5"
  }
 },
 "nbformat": 4,
 "nbformat_minor": 2
}
