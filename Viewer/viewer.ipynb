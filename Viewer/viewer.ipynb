{
 "cells": [
  {
   "cell_type": "code",
   "execution_count": 33,
   "metadata": {},
   "outputs": [
    {
     "data": {
      "application/vnd.jupyter.widget-view+json": {
       "model_id": "3b4a4d3fefea40b49971f107da2d8fc2",
       "version_major": 2,
       "version_minor": 0
      },
      "text/plain": [
       "interactive(children=(DatePicker(value=None, description='日付を選択'), Output()), _dom_classes=('widget-interact',…"
      ]
     },
     "metadata": {},
     "output_type": "display_data"
    }
   ],
   "source": [
    "#別ファイルのpyは一度消さないと\n",
    "#更新しても再インポートされない。\n",
    "import sys\n",
    "try:\n",
    "    del sys.modules['dataframe']\n",
    "except Exception as e:\n",
    "    pass\n",
    "\n",
    "\n",
    "\n",
    "import dataframe\n",
    "\n",
    "df = dataframe.DataFrame()\n",
    "\n",
    "import ipywidgets as widgets\n",
    "\n",
    "def on_date_change( date ):\n",
    "    global df\n",
    "    df.fetch( str(date).replace( \"-\", \".\" ) )\n",
    "    display( df.data )\n",
    "    \n",
    "date_picker = widgets.DatePicker(\n",
    "    description='日付を選択',\n",
    "    disabled=False\n",
    ")\n",
    "display( widgets.interactive(on_date_change, date=date_picker) )\n",
    "\n"
   ]
  }
 ],
 "metadata": {
  "kernelspec": {
   "display_name": "Python 3",
   "language": "python",
   "name": "python3"
  },
  "language_info": {
   "codemirror_mode": {
    "name": "ipython",
    "version": 3
   },
   "file_extension": ".py",
   "mimetype": "text/x-python",
   "name": "python",
   "nbconvert_exporter": "python",
   "pygments_lexer": "ipython3",
   "version": "3.6.5"
  }
 },
 "nbformat": 4,
 "nbformat_minor": 2
}
